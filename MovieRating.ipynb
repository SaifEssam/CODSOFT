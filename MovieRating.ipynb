{
 "cells": [
  {
   "cell_type": "code",
   "execution_count": 1,
   "id": "c926e35c-b48e-4003-bc29-6e1a37fa3e82",
   "metadata": {},
   "outputs": [],
   "source": [
    "# Import libraries\n",
    "import pandas as pd\n",
    "import numpy as np\n",
    "import matplotlib.pyplot as plt\n",
    "import seaborn as sns"
   ]
  },
  {
   "cell_type": "code",
   "execution_count": 3,
   "id": "6d110835-04cf-49fc-908a-e2f6d6f3818e",
   "metadata": {},
   "outputs": [
    {
     "name": "stderr",
     "output_type": "stream",
     "text": [
      "<>:2: SyntaxWarning: invalid escape sequence '\\C'\n",
      "<>:2: SyntaxWarning: invalid escape sequence '\\C'\n",
      "C:\\Users\\Windows 11 Pro\\AppData\\Local\\Temp\\ipykernel_12400\\3147604075.py:2: SyntaxWarning: invalid escape sequence '\\C'\n",
      "  movie_data = pd.read_csv('E:\\CODSOFT\\Movie\\Movie.csv', encoding='ISO-8859-1')\n"
     ]
    }
   ],
   "source": [
    "# Loading the dataset:\n",
    "movie_data = pd.read_csv('E:\\CODSOFT\\Movie\\Movie.csv', encoding='ISO-8859-1')"
   ]
  },
  {
   "cell_type": "code",
   "execution_count": 5,
   "id": "02e32363-d81d-4fda-babe-6be9df05241f",
   "metadata": {},
   "outputs": [
    {
     "name": "stdout",
     "output_type": "stream",
     "text": [
      "<class 'pandas.core.frame.DataFrame'>\n",
      "RangeIndex: 15509 entries, 0 to 15508\n",
      "Data columns (total 10 columns):\n",
      " #   Column    Non-Null Count  Dtype  \n",
      "---  ------    --------------  -----  \n",
      " 0   Name      15509 non-null  object \n",
      " 1   Year      14981 non-null  object \n",
      " 2   Duration  7240 non-null   object \n",
      " 3   Genre     13632 non-null  object \n",
      " 4   Rating    7919 non-null   float64\n",
      " 5   Votes     7920 non-null   object \n",
      " 6   Director  14984 non-null  object \n",
      " 7   Actor 1   13892 non-null  object \n",
      " 8   Actor 2   13125 non-null  object \n",
      " 9   Actor 3   12365 non-null  object \n",
      "dtypes: float64(1), object(9)\n",
      "memory usage: 1.2+ MB\n",
      "None\n",
      "                                 Name    Year Duration            Genre  \\\n",
      "0                                         NaN      NaN            Drama   \n",
      "1  #Gadhvi (He thought he was Gandhi)  (2019)  109 min            Drama   \n",
      "2                         #Homecoming  (2021)   90 min   Drama, Musical   \n",
      "3                             #Yaaram  (2019)  110 min  Comedy, Romance   \n",
      "4                   ...And Once Again  (2010)  105 min            Drama   \n",
      "\n",
      "   Rating Votes            Director       Actor 1             Actor 2  \\\n",
      "0     NaN   NaN       J.S. Randhawa      Manmauji              Birbal   \n",
      "1     7.0     8       Gaurav Bakshi  Rasika Dugal      Vivek Ghamande   \n",
      "2     NaN   NaN  Soumyajit Majumdar  Sayani Gupta   Plabita Borthakur   \n",
      "3     4.4    35          Ovais Khan       Prateik          Ishita Raj   \n",
      "4     NaN   NaN        Amol Palekar  Rajat Kapoor  Rituparna Sengupta   \n",
      "\n",
      "           Actor 3  \n",
      "0  Rajendra Bhatia  \n",
      "1    Arvind Jangid  \n",
      "2       Roy Angana  \n",
      "3  Siddhant Kapoor  \n",
      "4      Antara Mali  \n"
     ]
    }
   ],
   "source": [
    "# Displaying the basic info and the first few rows of the dataset\n",
    "print(movie_data.info())\n",
    "print(movie_data.head())"
   ]
  },
  {
   "cell_type": "markdown",
   "id": "c5926656-aeda-4c0d-a3a3-a5acebbc3e84",
   "metadata": {},
   "source": [
    "# Data Cleaning:"
   ]
  },
  {
   "cell_type": "code",
   "execution_count": 7,
   "id": "351c67b4-0ecd-4a65-8218-e14d1e0cefd0",
   "metadata": {},
   "outputs": [
    {
     "name": "stdout",
     "output_type": "stream",
     "text": [
      "<class 'pandas.core.frame.DataFrame'>\n",
      "Index: 7919 entries, 1 to 15508\n",
      "Data columns (total 10 columns):\n",
      " #   Column    Non-Null Count  Dtype  \n",
      "---  ------    --------------  -----  \n",
      " 0   Name      7919 non-null   object \n",
      " 1   Year      7919 non-null   float64\n",
      " 2   Duration  5851 non-null   float64\n",
      " 3   Genre     7919 non-null   object \n",
      " 4   Rating    7919 non-null   float64\n",
      " 5   Votes     7919 non-null   float64\n",
      " 6   Director  7919 non-null   object \n",
      " 7   Actor 1   7919 non-null   object \n",
      " 8   Actor 2   7919 non-null   object \n",
      " 9   Actor 3   7919 non-null   object \n",
      "dtypes: float64(4), object(6)\n",
      "memory usage: 680.5+ KB\n",
      "None\n"
     ]
    },
    {
     "name": "stderr",
     "output_type": "stream",
     "text": [
      "<>:2: SyntaxWarning: invalid escape sequence '\\d'\n",
      "<>:2: SyntaxWarning: invalid escape sequence '\\d'\n",
      "C:\\Users\\Windows 11 Pro\\AppData\\Local\\Temp\\ipykernel_12400\\2515388563.py:2: SyntaxWarning: invalid escape sequence '\\d'\n",
      "  movie_data['Year'] = pd.to_numeric(movie_data['Year'].str.extract('(\\d{4})')[0], errors='coerce')\n",
      "C:\\Users\\Windows 11 Pro\\AppData\\Local\\Temp\\ipykernel_12400\\2515388563.py:14: FutureWarning: A value is trying to be set on a copy of a DataFrame or Series through chained assignment using an inplace method.\n",
      "The behavior will change in pandas 3.0. This inplace method will never work because the intermediate object on which we are setting values always behaves as a copy.\n",
      "\n",
      "For example, when doing 'df[col].method(value, inplace=True)', try using 'df.method({col: value}, inplace=True)' or df[col] = df[col].method(value) instead, to perform the operation inplace on the original object.\n",
      "\n",
      "\n",
      "  movie_data['Genre'].fillna('Unknown', inplace=True)\n",
      "C:\\Users\\Windows 11 Pro\\AppData\\Local\\Temp\\ipykernel_12400\\2515388563.py:15: FutureWarning: A value is trying to be set on a copy of a DataFrame or Series through chained assignment using an inplace method.\n",
      "The behavior will change in pandas 3.0. This inplace method will never work because the intermediate object on which we are setting values always behaves as a copy.\n",
      "\n",
      "For example, when doing 'df[col].method(value, inplace=True)', try using 'df.method({col: value}, inplace=True)' or df[col] = df[col].method(value) instead, to perform the operation inplace on the original object.\n",
      "\n",
      "\n",
      "  movie_data['Director'].fillna('Unknown', inplace=True)\n",
      "C:\\Users\\Windows 11 Pro\\AppData\\Local\\Temp\\ipykernel_12400\\2515388563.py:16: FutureWarning: A value is trying to be set on a copy of a DataFrame or Series through chained assignment using an inplace method.\n",
      "The behavior will change in pandas 3.0. This inplace method will never work because the intermediate object on which we are setting values always behaves as a copy.\n",
      "\n",
      "For example, when doing 'df[col].method(value, inplace=True)', try using 'df.method({col: value}, inplace=True)' or df[col] = df[col].method(value) instead, to perform the operation inplace on the original object.\n",
      "\n",
      "\n",
      "  movie_data['Actor 1'].fillna('Unknown', inplace=True)\n",
      "C:\\Users\\Windows 11 Pro\\AppData\\Local\\Temp\\ipykernel_12400\\2515388563.py:17: FutureWarning: A value is trying to be set on a copy of a DataFrame or Series through chained assignment using an inplace method.\n",
      "The behavior will change in pandas 3.0. This inplace method will never work because the intermediate object on which we are setting values always behaves as a copy.\n",
      "\n",
      "For example, when doing 'df[col].method(value, inplace=True)', try using 'df.method({col: value}, inplace=True)' or df[col] = df[col].method(value) instead, to perform the operation inplace on the original object.\n",
      "\n",
      "\n",
      "  movie_data['Actor 2'].fillna('Unknown', inplace=True)\n",
      "C:\\Users\\Windows 11 Pro\\AppData\\Local\\Temp\\ipykernel_12400\\2515388563.py:18: FutureWarning: A value is trying to be set on a copy of a DataFrame or Series through chained assignment using an inplace method.\n",
      "The behavior will change in pandas 3.0. This inplace method will never work because the intermediate object on which we are setting values always behaves as a copy.\n",
      "\n",
      "For example, when doing 'df[col].method(value, inplace=True)', try using 'df.method({col: value}, inplace=True)' or df[col] = df[col].method(value) instead, to perform the operation inplace on the original object.\n",
      "\n",
      "\n",
      "  movie_data['Actor 3'].fillna('Unknown', inplace=True)\n"
     ]
    }
   ],
   "source": [
    "# Convert 'Year' to numeric, extracting only the year if there are any extra characters\n",
    "movie_data['Year'] = pd.to_numeric(movie_data['Year'].str.extract('(\\d{4})')[0], errors='coerce')\n",
    "\n",
    "# Convert 'Duration' to numeric, extracting only the minutes part\n",
    "movie_data['Duration'] = pd.to_numeric(movie_data['Duration'].str.replace(' min', ''), errors='coerce')\n",
    "\n",
    "# Convert 'Votes' to numeric, removing commas if present\n",
    "movie_data['Votes'] = pd.to_numeric(movie_data['Votes'].str.replace(',', ''), errors='coerce')\n",
    "\n",
    "# Drop rows with missing 'Rating' values as it’s our target variable\n",
    "movie_data.dropna(subset=['Rating'], inplace=True)\n",
    "\n",
    "# Fill remaining missing values or choose a strategy (e.g., fill with 'Unknown' for categorical or median for numerical)\n",
    "movie_data['Genre'].fillna('Unknown', inplace=True)\n",
    "movie_data['Director'].fillna('Unknown', inplace=True)\n",
    "movie_data['Actor 1'].fillna('Unknown', inplace=True)\n",
    "movie_data['Actor 2'].fillna('Unknown', inplace=True)\n",
    "movie_data['Actor 3'].fillna('Unknown', inplace=True)\n",
    "\n",
    "# Inspect the cleaned dataset\n",
    "print(movie_data.info())\n"
   ]
  },
  {
   "cell_type": "markdown",
   "id": "e98bc09b-2e40-4575-aa1c-180b76db0cd9",
   "metadata": {},
   "source": [
    "# Feature Engineering:"
   ]
  },
  {
   "cell_type": "code",
   "execution_count": 9,
   "id": "4b9ee6b3-b314-46f3-a373-534275b5c8cb",
   "metadata": {},
   "outputs": [],
   "source": [
    "# One-hot encode 'Genre' by creating multiple genre columns\n",
    "movie_data = movie_data.join(movie_data['Genre'].str.get_dummies(sep=', '))\n",
    "\n",
    "# One-hot encode 'Director' and 'Actor 1' (you may consider using the top 10-20 most common values only)\n",
    "top_directors = movie_data['Director'].value_counts().nlargest(10).index\n",
    "movie_data['Director'] = movie_data['Director'].apply(lambda x: x if x in top_directors else 'Other')\n",
    "movie_data = pd.get_dummies(movie_data, columns=['Director'], drop_first=True)\n",
    "\n",
    "# Repeat the same for 'Actor 1', 'Actor 2', 'Actor 3' (using top actors to limit columns)\n",
    "top_actors = movie_data['Actor 1'].value_counts().nlargest(10).index\n",
    "for actor_col in ['Actor 1', 'Actor 2', 'Actor 3']:\n",
    "    movie_data[actor_col] = movie_data[actor_col].apply(lambda x: x if x in top_actors else 'Other')\n",
    "    movie_data = pd.get_dummies(movie_data, columns=[actor_col], drop_first=True)"
   ]
  },
  {
   "cell_type": "markdown",
   "id": "6162da70-1630-4a5a-ba1d-dedc2e3aeda0",
   "metadata": {},
   "source": [
    "# Model Building:"
   ]
  },
  {
   "cell_type": "code",
   "execution_count": 12,
   "id": "8c967fa6-f4da-4515-9b23-ff4b6bd71ab1",
   "metadata": {},
   "outputs": [],
   "source": [
    "from sklearn.model_selection import train_test_split\n",
    "from sklearn.linear_model import LinearRegression\n",
    "from sklearn.ensemble import RandomForestRegressor\n",
    "from sklearn.metrics import mean_squared_error, r2_score\n",
    "\n",
    "# Define features (exclude columns like 'Name' that won’t be helpful)\n",
    "X = movie_data.drop(columns=['Name', 'Rating', 'Genre'])\n",
    "y = movie_data['Rating']\n",
    "\n",
    "# Split data into training and testing sets\n",
    "X_train, X_test, y_train, y_test = train_test_split(X, y, test_size=0.2, random_state=42)\n",
    "\n",
    "# Initialize and train a model (e.g., RandomForestRegressor)\n",
    "model = RandomForestRegressor(n_estimators=100, random_state=42)\n",
    "model.fit(X_train, y_train)\n",
    "\n",
    "# Make predictions on the test set\n",
    "y_pred = model.predict(X_test)"
   ]
  },
  {
   "cell_type": "code",
   "execution_count": 14,
   "id": "0a8a0f74-bce7-47ae-b95d-d7657fbb91a1",
   "metadata": {},
   "outputs": [
    {
     "name": "stdout",
     "output_type": "stream",
     "text": [
      "Mean Squared Error: 1.2021956459148715\n",
      "R-squared Score: 0.35336105845970556\n"
     ]
    }
   ],
   "source": [
    "# Calculate metrics\n",
    "mse = mean_squared_error(y_test, y_pred)\n",
    "r2 = r2_score(y_test, y_pred)\n",
    "\n",
    "print(f\"Mean Squared Error: {mse}\")\n",
    "print(f\"R-squared Score: {r2}\")"
   ]
  }
 ],
 "metadata": {
  "kernelspec": {
   "display_name": "Python 3 (ipykernel)",
   "language": "python",
   "name": "python3"
  },
  "language_info": {
   "codemirror_mode": {
    "name": "ipython",
    "version": 3
   },
   "file_extension": ".py",
   "mimetype": "text/x-python",
   "name": "python",
   "nbconvert_exporter": "python",
   "pygments_lexer": "ipython3",
   "version": "3.12.4"
  }
 },
 "nbformat": 4,
 "nbformat_minor": 5
}
